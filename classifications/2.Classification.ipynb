{
  "cells": [
    {
      "cell_type": "markdown",
      "metadata": {},
      "source": [
        "# Classification"
      ]
    },
    {
      "cell_type": "code",
      "execution_count": 1,
      "metadata": {
        "id": "BYb8Gf9fQQBv"
      },
      "outputs": [],
      "source": [
        "# Import necessary libraries\n",
        "import numpy as np\n",
        "import matplotlib.pyplot as plt\n",
        "from sklearn.datasets import fetch_openml\n",
        "from sklearn.neighbors import KNeighborsClassifier\n",
        "\n",
        "# Fetch the MNIST dataset\n",
        "mnist = fetch_openml('mnist_784', version=1)\n",
        "\n",
        "# Extract features and target\n",
        "X, y = mnist['data'], mnist['target']"
      ]
    },
    {
      "cell_type": "code",
      "execution_count": 2,
      "metadata": {
        "colab": {
          "base_uri": "https://localhost:8080/",
          "height": 463
        },
        "id": "LHj2gauBTIVn",
        "outputId": "e73ab246-2d19-46a7-882b-90eb24a816b7"
      },
      "outputs": [
        {
          "name": "stdout",
          "output_type": "stream",
          "text": [
            "Shape of the data: (70000, 784)\n",
            "Shape of the target: (70000,)\n"
          ]
        },
        {
          "data": {
            "image/png": "[encoded data removed]",
            "text/plain": [
              "<Figure size 640x480 with 1 Axes>"
            ]
          },
          "metadata": {},
          "output_type": "display_data"
        }
      ],
      "source": [
        "# Look at the shape of the data\n",
        "print(\"Shape of the data:\", X.shape)  # (70000, 784)\n",
        "print(\"Shape of the target:\", y.shape)  # (70000,)\n",
        "\n",
        "# Extract 1 data point\n",
        "sample_index = 0\n",
        "sample_data = X.iloc[sample_index]\n",
        "sample_label = y.iloc[sample_index]\n",
        "\n",
        "# Reshape the data point into a 28x28 matrix\n",
        "sample_image = sample_data.values.reshape(28, 28)\n",
        "\n",
        "# Visualize the reshaped data point\n",
        "plt.imshow(sample_image, cmap='gray')\n",
        "plt.title(f'Label: {sample_label}')\n",
        "plt.axis('off')\n",
        "plt.show()"
      ]
    },
    {
      "cell_type": "code",
      "execution_count": 3,
      "metadata": {
        "id": "FunYJILtTLUj"
      },
      "outputs": [],
      "source": [
        "# Create a train set (60,000) and a test set (10,000)\n",
        "X_train, X_test = X[:60000], X[60000:]\n",
        "y_train, y_test = y[:60000], y[60000:]"
      ]
    },
    {
      "cell_type": "code",
      "execution_count": 4,
      "metadata": {
        "colab": {
          "base_uri": "https://localhost:8080/"
        },
        "id": "m0_y2pJBTM47",
        "outputId": "bd6f47f2-4dc1-44e1-de0b-2c46d329ccd4"
      },
      "outputs": [
        {
          "name": "stdout",
          "output_type": "stream",
          "text": [
            "Binary Classification (5-detector):\n",
            "Confusion Matrix:\n",
            " [[8707  401]\n",
            " [ 107  785]]\n",
            "Precision: 0.6618887015177066\n",
            "Recall: 0.8800448430493274\n"
          ]
        }
      ],
      "source": [
        "from sklearn.linear_model import SGDClassifier\n",
        "from sklearn.metrics import confusion_matrix, precision_score, recall_score\n",
        "\n",
        "# Create binary labels for detecting '5'\n",
        "y_train_5 = (y_train == '5')\n",
        "y_test_5 = (y_test == '5')\n",
        "\n",
        "# Train a binary classifier\n",
        "sgd_clf = SGDClassifier(random_state=42)\n",
        "sgd_clf.fit(X_train, y_train_5)\n",
        "\n",
        "# Make predictions\n",
        "y_pred_5 = sgd_clf.predict(X_test)\n",
        "\n",
        "# Evaluate the model\n",
        "print(\"Binary Classification (5-detector):\")\n",
        "print(\"Confusion Matrix:\\n\", confusion_matrix(y_test_5, y_pred_5))\n",
        "print(\"Precision:\", precision_score(y_test_5, y_pred_5))\n",
        "print(\"Recall:\", recall_score(y_test_5, y_pred_5))"
      ]
    },
    {
      "cell_type": "code",
      "execution_count": 5,
      "metadata": {
        "colab": {
          "base_uri": "https://localhost:8080/"
        },
        "id": "08oPOeZyTO7s",
        "outputId": "38f24c81-5b84-4e11-cb34-c9b1fc9441fe"
      },
      "outputs": [
        {
          "name": "stdout",
          "output_type": "stream",
          "text": [
            "Multiclass Classification (Digit Detector):\n",
            "              precision    recall  f1-score   support\n",
            "\n",
            "           0       0.97      0.99      0.98       980\n",
            "           1       0.99      0.99      0.99      1135\n",
            "           2       0.96      0.96      0.96      1032\n",
            "           3       0.96      0.96      0.96      1010\n",
            "           4       0.98      0.97      0.97       982\n",
            "           5       0.97      0.96      0.97       892\n",
            "           6       0.98      0.97      0.98       958\n",
            "           7       0.97      0.96      0.97      1028\n",
            "           8       0.96      0.96      0.96       974\n",
            "           9       0.96      0.96      0.96      1009\n",
            "\n",
            "    accuracy                           0.97     10000\n",
            "   macro avg       0.97      0.97      0.97     10000\n",
            "weighted avg       0.97      0.97      0.97     10000\n",
            "\n"
          ]
        }
      ],
      "source": [
        "from sklearn.ensemble import RandomForestClassifier\n",
        "from sklearn.metrics import classification_report\n",
        "\n",
        "# Train a multiclass classifier\n",
        "rf_clf = RandomForestClassifier(random_state=42)\n",
        "rf_clf.fit(X_train, y_train)\n",
        "\n",
        "# Make predictions\n",
        "y_pred = rf_clf.predict(X_test)\n",
        "\n",
        "# Evaluate the model\n",
        "print(\"Multiclass Classification (Digit Detector):\")\n",
        "print(classification_report(y_test, y_pred))"
      ]
    },
    {
      "cell_type": "code",
      "execution_count": 6,
      "metadata": {
        "colab": {
          "base_uri": "https://localhost:8080/"
        },
        "id": "n5MHHZvsTQcs",
        "outputId": "d80782c1-2b36-41bc-e68f-9ccf36d99040"
      },
      "outputs": [
        {
          "name": "stdout",
          "output_type": "stream",
          "text": [
            "Multilabel Classification (Odd/Even and Small/Large):\n",
            "Confusion Matrix:\n",
            " [[6952   54]\n",
            " [  74 2920]]\n"
          ]
        }
      ],
      "source": [
        "# Create multilabel targets\n",
        "y_train_multilabel = np.array([[int(label) % 2, int(label) < 5] for label in y_train])\n",
        "y_test_multilabel = np.array([[int(label) % 2, int(label) < 5] for label in y_test])\n",
        "\n",
        "# Train a KNeighborsClassifier for multilabel classification\n",
        "knn_clf = KNeighborsClassifier()\n",
        "knn_clf.fit(X_train, y_train_multilabel)\n",
        "\n",
        "# Make predictions\n",
        "y_pred_multilabel = knn_clf.predict(X_test)\n",
        "\n",
        "# Evaluate the model\n",
        "print(\"Multilabel Classification (Odd/Even and Small/Large):\")\n",
        "print(\"Confusion Matrix:\\n\", confusion_matrix(y_test_multilabel.argmax(axis=1), y_pred_multilabel.argmax(axis=1)))"
      ]
    },
    {
      "cell_type": "code",
      "execution_count": 7,
      "metadata": {
        "colab": {
          "base_uri": "https://localhost:8080/",
          "height": 497
        },
        "id": "bewAp5o4JKwm",
        "outputId": "5c420311-be77-49e5-d4ff-6487eafc858d"
      },
      "outputs": [
        {
          "name": "stdout",
          "output_type": "stream",
          "text": [
            "Available indices: [0, 1, 2, 3, 4, 5, 6, 7, 8, 9]\n"
          ]
        },
        {
          "name": "stderr",
          "output_type": "stream",
          "text": [
            "/Users/hungnguy/Library/Python/3.9/lib/python/site-packages/sklearn/utils/validation.py:2739: UserWarning: X does not have valid feature names, but SGDClassifier was fitted with feature names\n",
            "  warnings.warn(\n"
          ]
        },
        {
          "data": {
            "image/png": "[encoded data removed]",
            "text/plain": [
              "<Figure size 640x480 with 1 Axes>"
            ]
          },
          "metadata": {},
          "output_type": "display_data"
        }
      ],
      "source": [
        "# Function to select an image and label it\n",
        "def select_and_label_image(indices):\n",
        "    # Display available indices\n",
        "    print(\"Available indices:\", indices)\n",
        "\n",
        "    # User selects an index\n",
        "    sample_index = int(input(\"Select an index from the list above: \"))\n",
        "\n",
        "    if sample_index not in indices:\n",
        "        print(\"Invalid index selected. Please choose from the available indices.\")\n",
        "        return\n",
        "\n",
        "    # Extract the sample data and label\n",
        "    sample_data = X.iloc[sample_index]\n",
        "    sample_label = y.iloc[sample_index]\n",
        "\n",
        "    # Reshape the data point into a 28x28 matrix\n",
        "    sample_image = sample_data.values.reshape(28, 28)\n",
        "\n",
        "    # Make a prediction\n",
        "    prediction = sgd_clf.predict([sample_data])\n",
        "\n",
        "    # Visualize the reshaped data point\n",
        "    plt.imshow(sample_image, cmap='gray')\n",
        "    plt.title(f'Label: {sample_label}, Predicted: {\"5\" if prediction[0] else \"Not 5\"}')\n",
        "    plt.axis('off')\n",
        "    plt.show()\n",
        "\n",
        "# Example usage: Select and label an image from a list of indices\n",
        "available_indices = list(range(10))  # For example, the first 10 images\n",
        "select_and_label_image(available_indices)"
      ]
    }
  ],
  "metadata": {
    "colab": {
      "provenance": []
    },
    "kernelspec": {
      "display_name": "Python 3",
      "name": "python3"
    },
    "language_info": {
      "codemirror_mode": {
        "name": "ipython",
        "version": 3
      },
      "file_extension": ".py",
      "mimetype": "text/x-python",
      "name": "python",
      "nbconvert_exporter": "python",
      "pygments_lexer": "ipython3",
      "version": "3.9.6"
    }
  },
  "nbformat": 4,
  "nbformat_minor": 0
}
