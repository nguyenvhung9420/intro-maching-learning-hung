{
 "cells": [
  {
   "cell_type": "markdown",
   "metadata": {},
   "source": [
    "# Value Iteration Algorithm"
   ]
  },
  {
   "cell_type": "code",
   "execution_count": 1,
   "metadata": {
    "vscode": {
     "languageId": "shellscript"
    }
   },
   "outputs": [
    {
     "name": "stdout",
     "output_type": "stream",
     "text": [
      "Defaulting to user installation because normal site-packages is not writeable\n",
      "Requirement already satisfied: numpy in /Users/hungnguy/Library/Python/3.9/lib/python/site-packages (1.26.4)\n",
      "\u001b[33mWARNING: You are using pip version 21.2.4; however, version 25.0.1 is available.\n",
      "You should consider upgrading via the '/Applications/Xcode.app/Contents/Developer/usr/bin/python3 -m pip install --upgrade pip' command.\u001b[0m\n",
      "Note: you may need to restart the kernel to use updated packages.\n"
     ]
    }
   ],
   "source": [
    "pip install numpy"
   ]
  },
  {
   "cell_type": "code",
   "execution_count": 2,
   "metadata": {},
   "outputs": [],
   "source": [
    "# Import things:\n",
    "import numpy as np"
   ]
  },
  {
   "cell_type": "code",
   "execution_count": 3,
   "metadata": {},
   "outputs": [],
   "source": [
    "# Define the MDP components\n",
    "states = [\"s0\", \"s1\", \"s2\"]\n",
    "actions = [\"a0\", \"a1\", \"a2\"]\n",
    "gamma = 0.9  # Discount factor\n",
    "threshold = 1e-6  # Convergence threshold"
   ]
  },
  {
   "cell_type": "code",
   "execution_count": 4,
   "metadata": {},
   "outputs": [],
   "source": [
    "# Transition probabilities and rewards\n",
    "# Format: transition_probs[state][action] = [(next_state, probability, reward)]\n",
    "\n",
    "transition_probs = {\n",
    "    \"s0\": {\n",
    "        \"a0\": [(\"s0\", 0.7, 10), (\"s1\", 0.3, 0)],\n",
    "        \"a1\": [(\"s0\", 1.0, 0)],\n",
    "        \"a2\": [(\"s1\", 0.8, 0), (\"s2\", 0.2, 0)],\n",
    "    },\n",
    "    \"s1\": {\n",
    "        \"a0\": [(\"s1\", 1.0, 0)],\n",
    "        \"a2\": [(\"s2\", 1.0, -50)],\n",
    "    },\n",
    "    \"s2\": {\n",
    "        \"a1\": [(\"s0\", 0.8, 40), (\"s2\", 0.1, 0), (\"s1\", 0.1, 0)],\n",
    "    },\n",
    "}\n",
    "\n",
    "\n",
    "# Initialize state values\n",
    "values = {state: 0 for state in states}"
   ]
  },
  {
   "cell_type": "markdown",
   "metadata": {},
   "source": [
    "Make a function for Value Iteration"
   ]
  },
  {
   "cell_type": "code",
   "execution_count": 5,
   "metadata": {},
   "outputs": [],
   "source": [
    "# Value Iteration\n",
    "def value_iteration(input_values):\n",
    "    while True:\n",
    "        delta = 0  # Track maximum change in values\n",
    "        new_values = input_values\n",
    "\n",
    "        for state in states:\n",
    "            # Compute the value of the state for each action\n",
    "            action_values = []\n",
    "            for action in actions:\n",
    "                if action in transition_probs[state]:\n",
    "                    action_value = sum(\n",
    "                        prob * (reward + gamma * values[next_state])\n",
    "                        for next_state, prob, reward in transition_probs[state][action]\n",
    "                    )\n",
    "                    action_values.append(action_value)\n",
    "            \n",
    "            # Update the value of the state\n",
    "            if action_values:\n",
    "                new_values[state] = max(action_values)\n",
    "                delta = max(delta, abs(new_values[state] - values[state]))\n",
    "\n",
    "        values.update(new_values)\n",
    "\n",
    "        # Check for convergence\n",
    "        if delta < threshold:\n",
    "            break\n",
    "\n",
    "    # Extract the optimal policy\n",
    "    policy = {}\n",
    "    for state in states:\n",
    "        best_action = None\n",
    "        best_action_value = float(\"-inf\")\n",
    "        for action in actions:\n",
    "            if action in transition_probs[state]:\n",
    "                action_value = sum(\n",
    "                    prob * (reward + gamma * values[next_state])\n",
    "                    for next_state, prob, reward in transition_probs[state][action]\n",
    "                )\n",
    "                if action_value > best_action_value:\n",
    "                    best_action_value = action_value\n",
    "                    best_action = action\n",
    "        policy[state] = best_action\n",
    "\n",
    "    return values, policy"
   ]
  },
  {
   "cell_type": "markdown",
   "metadata": {},
   "source": [
    "Run the iteration"
   ]
  },
  {
   "cell_type": "code",
   "execution_count": 64,
   "metadata": {},
   "outputs": [
    {
     "name": "stdout",
     "output_type": "stream",
     "text": [
      "Optimal State Values:\n",
      "  s0: 18.92\n",
      "  s1: 0.00\n",
      "  s2: 50.13\n",
      "\n",
      "Optimal Policy:\n",
      "  s0: a0\n",
      "  s1: a0\n",
      "  s2: a1\n"
     ]
    }
   ],
   "source": [
    "# Run value iteration\n",
    "optimal_values, optimal_policy = value_iteration(values)\n",
    "\n",
    "# Display results\n",
    "print(\"Optimal State Values:\")\n",
    "for state, value in optimal_values.items():\n",
    "    print(f\"  {state}: {value:.2f}\")\n",
    "\n",
    "print(\"\\nOptimal Policy:\")\n",
    "for state, action in optimal_policy.items():\n",
    "    print(f\"  {state}: {action}\")"
   ]
  },
  {
   "cell_type": "markdown",
   "metadata": {},
   "source": [
    "Number of iteration (Convergence)"
   ]
  },
  {
   "cell_type": "code",
   "execution_count": 60,
   "metadata": {},
   "outputs": [],
   "source": [
    "\n",
    "# Value Iteration Algorithm\n",
    "def value_iteration_convergence_debug():\n",
    "    iteration_count = 0\n",
    "    while True:\n",
    "        delta = 0  # Track maximum change in values\n",
    "        new_values = values.copy()\n",
    "\n",
    "        print(f\"Iteration {iteration_count}: Current Values = {values}\")\n",
    "\n",
    "        for state in states:\n",
    "            # Compute the value of the state for each action\n",
    "            action_values = []\n",
    "            for action in actions:\n",
    "                if action in transition_probs[state]:\n",
    "                    action_value = sum(\n",
    "                        prob * (reward + gamma * values[next_state])\n",
    "                        for next_state, prob, reward in transition_probs[state][action]\n",
    "                    )\n",
    "                    action_values.append(action_value)\n",
    "            \n",
    "            # Update the value of the state\n",
    "            if action_values:\n",
    "                new_values[state] = max(action_values)\n",
    "                delta = max(delta, abs(new_values[state] - values[state]))\n",
    "\n",
    "        values.update(new_values)\n",
    "        iteration_count += 1\n",
    "\n",
    "        print(f\"Iteration {iteration_count}: Updated Values = {values}, Delta = {delta}\")\n",
    "\n",
    "        # Check for convergence\n",
    "        if delta < threshold:\n",
    "            break\n",
    "\n",
    "    return iteration_count\n",
    "\n"
   ]
  },
  {
   "cell_type": "markdown",
   "metadata": {},
   "source": [
    "Print final values"
   ]
  },
  {
   "cell_type": "code",
   "execution_count": 61,
   "metadata": {},
   "outputs": [
    {
     "name": "stdout",
     "output_type": "stream",
     "text": [
      "Iteration 0: Current Values = {'s0': 7.0, 's1': 0.0, 's2': 37.04}\n",
      "Iteration 1: Updated Values = {'s0': 11.41, 's1': 0.0, 's2': 40.373599999999996}, Delta = 4.41\n",
      "Iteration 1: Current Values = {'s0': 11.41, 's1': 0.0, 's2': 40.373599999999996}\n",
      "Iteration 2: Updated Values = {'s0': 14.188299999999998, 's1': 0.0, 's2': 43.848824}, Delta = 3.4752240000000043\n",
      "Iteration 2: Current Values = {'s0': 14.188299999999998, 's1': 0.0, 's2': 43.848824}\n",
      "Iteration 3: Updated Values = {'s0': 15.938628999999997, 's1': 0.0, 's2': 46.161970159999996}, Delta = 2.313146159999995\n",
      "Iteration 3: Current Values = {'s0': 15.938628999999997, 's1': 0.0, 's2': 46.161970159999996}\n",
      "Iteration 4: Updated Values = {'s0': 17.04133627, 's1': 0.0, 's2': 47.63039019440001}, Delta = 1.4684200344000118\n",
      "Iteration 4: Current Values = {'s0': 17.04133627, 's1': 0.0, 's2': 47.63039019440001}\n",
      "Iteration 5: Updated Values = {'s0': 17.736041850099998, 's1': 0.0, 's2': 48.556497231896}, Delta = 0.9261070374959957\n",
      "Iteration 5: Current Values = {'s0': 17.736041850099998, 's1': 0.0, 's2': 48.556497231896}\n",
      "Iteration 6: Updated Values = {'s0': 18.173706365563, 's1': 0.0, 's2': 49.14003488294264}, Delta = 0.5835376510466403\n",
      "Iteration 6: Current Values = {'s0': 18.173706365563, 's1': 0.0, 's2': 49.14003488294264}\n",
      "Iteration 7: Updated Values = {'s0': 18.44943501030469, 's1': 0.0, 's2': 49.5076717226702}, Delta = 0.36763683972755956\n",
      "Iteration 7: Current Values = {'s0': 18.44943501030469, 's1': 0.0, 's2': 49.5076717226702}\n",
      "Iteration 8: Updated Values = {'s0': 18.623144056491956, 's1': 0.0, 's2': 49.739283662459705}, Delta = 0.23161193978950223\n",
      "Iteration 8: Current Values = {'s0': 18.623144056491956, 's1': 0.0, 's2': 49.739283662459705}\n",
      "Iteration 9: Updated Values = {'s0': 18.732580755589932, 's1': 0.0, 's2': 49.885199250295585}, Delta = 0.14591558783588\n",
      "Iteration 9: Current Values = {'s0': 18.732580755589932, 's1': 0.0, 's2': 49.885199250295585}\n",
      "Iteration 10: Updated Values = {'s0': 18.801525876021657, 's1': 0.0, 's2': 49.97712607655136}, Delta = 0.0919268262557722\n",
      "Iteration 10: Current Values = {'s0': 18.801525876021657, 's1': 0.0, 's2': 49.97712607655136}\n",
      "Iteration 11: Updated Values = {'s0': 18.844961301893644, 's1': 0.0, 's2': 50.03503997762522}, Delta = 0.057913901073860075\n",
      "Iteration 11: Current Values = {'s0': 18.844961301893644, 's1': 0.0, 's2': 50.03503997762522}\n",
      "Iteration 12: Updated Values = {'s0': 18.872325620192992, 's1': 0.0, 's2': 50.071525735349695}, Delta = 0.03648575772447771\n",
      "Iteration 12: Current Values = {'s0': 18.872325620192992, 's1': 0.0, 's2': 50.071525735349695}\n",
      "Iteration 13: Updated Values = {'s0': 18.889565140721583, 's1': 0.0, 's2': 50.09451176272043}, Delta = 0.02298602737073452\n",
      "Iteration 13: Current Values = {'s0': 18.889565140721583, 's1': 0.0, 's2': 50.09451176272043}\n",
      "Iteration 14: Updated Values = {'s0': 18.900426038654594, 's1': 0.0, 's2': 50.10899295996438}, Delta = 0.014481197243952693\n",
      "Iteration 14: Current Values = {'s0': 18.900426038654594, 's1': 0.0, 's2': 50.10899295996438}\n",
      "Iteration 15: Updated Values = {'s0': 18.907268404352394, 's1': 0.0, 's2': 50.1181161142281}, Delta = 0.009123154263718902\n",
      "Iteration 15: Current Values = {'s0': 18.907268404352394, 's1': 0.0, 's2': 50.1181161142281}\n",
      "Iteration 16: Updated Values = {'s0': 18.911579094742006, 's1': 0.0, 's2': 50.12386370141426}, Delta = 0.005747587186156977\n",
      "Iteration 16: Current Values = {'s0': 18.911579094742006, 's1': 0.0, 's2': 50.12386370141426}\n",
      "Iteration 17: Updated Values = {'s0': 18.914294829687464, 's1': 0.0, 's2': 50.12748468134153}, Delta = 0.0036209799272697296\n",
      "Iteration 17: Current Values = {'s0': 18.914294829687464, 's1': 0.0, 's2': 50.12748468134153}\n",
      "Iteration 18: Updated Values = {'s0': 18.9160057427031, 's1': 0.0, 's2': 50.129765898695716}, Delta = 0.002281217354187959\n",
      "Iteration 18: Current Values = {'s0': 18.9160057427031, 's1': 0.0, 's2': 50.129765898695716}\n",
      "Iteration 19: Updated Values = {'s0': 18.91708361790295, 's1': 0.0, 's2': 50.13120306562885}, Delta = 0.0014371669331367798\n",
      "Iteration 19: Current Values = {'s0': 18.91708361790295, 's1': 0.0, 's2': 50.13120306562885}\n",
      "Iteration 20: Updated Values = {'s0': 18.91776267927886, 's1': 0.0, 's2': 50.132108480796724}, Delta = 0.0009054151678711264\n",
      "Iteration 20: Current Values = {'s0': 18.91776267927886, 's1': 0.0, 's2': 50.132108480796724}\n",
      "Iteration 21: Updated Values = {'s0': 18.91819048794568, 's1': 0.0, 's2': 50.13267889235248}, Delta = 0.0005704115557563227\n",
      "Iteration 21: Current Values = {'s0': 18.91819048794568, 's1': 0.0, 's2': 50.13267889235248}\n",
      "Iteration 22: Updated Values = {'s0': 18.918460007405777, 's1': 0.0, 's2': 50.13303825163262}, Delta = 0.0003593592801394152\n",
      "Iteration 22: Current Values = {'s0': 18.918460007405777, 's1': 0.0, 's2': 50.13303825163262}\n",
      "Iteration 23: Updated Values = {'s0': 18.91862980466564, 's1': 0.0, 's2': 50.1332646479791}, Delta = 0.00022639634647703133\n",
      "Iteration 23: Current Values = {'s0': 18.91862980466564, 's1': 0.0, 's2': 50.1332646479791}\n",
      "Iteration 24: Updated Values = {'s0': 18.91873677693935, 's1': 0.0, 's2': 50.13340727767738}, Delta = 0.0001426296982813824\n",
      "Iteration 24: Current Values = {'s0': 18.91873677693935, 's1': 0.0, 's2': 50.13340727767738}\n",
      "Iteration 25: Updated Values = {'s0': 18.91880416947179, 's1': 0.0, 's2': 50.1334971343873}, Delta = 8.985670991989991e-05\n",
      "Iteration 25: Current Values = {'s0': 18.91880416947179, 's1': 0.0, 's2': 50.1334971343873}\n",
      "Iteration 26: Updated Values = {'s0': 18.918846626767227, 's1': 0.0, 's2': 50.13355374411454}, Delta = 5.66097272454158e-05\n",
      "Iteration 26: Current Values = {'s0': 18.918846626767227, 's1': 0.0, 's2': 50.13355374411454}\n",
      "Iteration 27: Updated Values = {'s0': 18.918873374863352, 's1': 0.0, 's2': 50.13358940824271}, Delta = 3.5664128169798914e-05\n",
      "Iteration 27: Current Values = {'s0': 18.918873374863352, 's1': 0.0, 's2': 50.13358940824271}\n",
      "Iteration 28: Updated Values = {'s0': 18.91889022616391, 's1': 0.0, 's2': 50.13361187664346}, Delta = 2.2468400743491657e-05\n",
      "Iteration 28: Current Values = {'s0': 18.91889022616391, 's1': 0.0, 's2': 50.13361187664346}\n",
      "Iteration 29: Updated Values = {'s0': 18.918900842483264, 's1': 0.0, 's2': 50.13362603173593}, Delta = 1.4155092472378783e-05\n",
      "Iteration 29: Current Values = {'s0': 18.918900842483264, 's1': 0.0, 's2': 50.13362603173593}\n",
      "Iteration 30: Updated Values = {'s0': 18.918907530764454, 's1': 0.0, 's2': 50.133634949444186}, Delta = 8.917708257172308e-06\n",
      "Iteration 30: Current Values = {'s0': 18.918907530764454, 's1': 0.0, 's2': 50.133634949444186}\n",
      "Iteration 31: Updated Values = {'s0': 18.918911744381603, 's1': 0.0, 's2': 50.13364056760038}, Delta = 5.618156194486801e-06\n",
      "Iteration 31: Current Values = {'s0': 18.918911744381603, 's1': 0.0, 's2': 50.13364056760038}\n",
      "Iteration 32: Updated Values = {'s0': 18.918914398960407, 's1': 0.0, 's2': 50.13364410703879}, Delta = 3.539438409916329e-06\n",
      "Iteration 32: Current Values = {'s0': 18.918914398960407, 's1': 0.0, 's2': 50.13364410703879}\n",
      "Iteration 33: Updated Values = {'s0': 18.918916071345055, 's1': 0.0, 's2': 50.13364633688499}, Delta = 2.2298462027947608e-06\n",
      "Iteration 33: Current Values = {'s0': 18.918916071345055, 's1': 0.0, 's2': 50.13364633688499}\n",
      "Iteration 34: Updated Values = {'s0': 18.918917124947384, 's1': 0.0, 's2': 50.1336477416881}, Delta = 1.4048031076185907e-06\n",
      "Iteration 34: Current Values = {'s0': 18.918917124947384, 's1': 0.0, 's2': 50.1336477416881}\n",
      "Iteration 35: Updated Values = {'s0': 18.918917788716854, 's1': 0.0, 's2': 50.13364862671405}, Delta = 8.85025947638951e-07\n",
      "Value Iteration Converged in 35 iteration(s).\n"
     ]
    }
   ],
   "source": [
    "# Run Value Iteration and calculate convergence\n",
    "value_iteration_iterations = value_iteration_convergence_debug()\n",
    "print(f\"Value Iteration Converged in {value_iteration_iterations} iteration(s).\")"
   ]
  }
 ],
 "metadata": {
  "kernelspec": {
   "display_name": "Python 3",
   "language": "python",
   "name": "python3"
  },
  "language_info": {
   "codemirror_mode": {
    "name": "ipython",
    "version": 3
   },
   "file_extension": ".py",
   "mimetype": "text/x-python",
   "name": "python",
   "nbconvert_exporter": "python",
   "pygments_lexer": "ipython3",
   "version": "3.9.6"
  }
 },
 "nbformat": 4,
 "nbformat_minor": 2
}
